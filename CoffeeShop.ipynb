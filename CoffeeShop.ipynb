{
 "cells": [
  {
   "cell_type": "code",
   "execution_count": 28,
   "metadata": {
    "scrolled": true
   },
   "outputs": [
    {
     "name": "stdout",
     "output_type": "stream",
     "text": [
      "What Coffee cup size would you like: small, medium or large?\n",
      "small\n",
      "Do you want brewed, espresso, or cold press?\n",
      "espresso\n",
      "Do you want a flavored syrup: yes or no?\n",
      "yes\n",
      "Do you want hazelnut, vanilla, or caramel?\n",
      "vanilla\n",
      "You asked for a small cup of espresso coffee with vanilla syrup.\n",
      "Your cup of coffee costs 3.00\n",
      "The price with a tip is 3.45\n"
     ]
    }
   ],
   "source": [
    "coffee_size_dict = {\n",
    "    \"small\":2,\n",
    "    \"medium\":3,\n",
    "    \"large\":4\n",
    "}\n",
    "coffee_type_dict = {\n",
    "    \"brewed\":0,\n",
    "    \"espresso\":0.5,\n",
    "    \"cold press\":1\n",
    "}\n",
    "\n",
    "has_syrup = \"\"\n",
    "coffee_size = \"\"\n",
    "coffee_type = \"\"\n",
    "coffee_syrup = \"no\"\n",
    "\n",
    "while(True):\n",
    "    print(\"What Coffee cup size would you like: small, medium or large?\")\n",
    "    coffee_size = input()\n",
    "    coffee_size.lower()\n",
    "    if coffee_size in coffee_size_dict.keys():\n",
    "        break\n",
    "    print(\"Please enter a valid cup size\")\n",
    "    \n",
    "while(True):\n",
    "    print(\"Do you want brewed, espresso, or cold press?\")\n",
    "    coffee_type = input()\n",
    "    coffee_type.lower()\n",
    "    if coffee_type in (\"brewed\", \"espresso\", \"cold press\"):\n",
    "        break\n",
    "    print(\"Please enter a valid type of coffee\")\n",
    "\n",
    "while(True):\n",
    "    print(\"Do you want a flavored syrup: yes or no?\")\n",
    "    has_syrup = input()\n",
    "    if has_syrup in (\"yes\",\"no\"):\n",
    "        break\n",
    "        \n",
    "while(True and has_syrup == \"yes\"):\n",
    "    print(\"Do you want hazelnut, vanilla, or caramel?\")\n",
    "    coffee_syrup = input()\n",
    "    coffee_syrup.lower()\n",
    "    if coffee_syrup in (\"hazelnut\", \"vanilla\", \"caramel\"):\n",
    "        break\n",
    "    print(\"Please enter a type of coffee syrup\")\n",
    "    \n",
    "\n",
    "print(\"You asked for a %s cup of %s coffee with %s syrup.\"%(coffee_size, coffee_type, coffee_syrup))\n",
    "cost = 0.0 + coffee_size_dict[coffee_size] + coffee_type_dict[coffee_type] + (0 if has_syrup == \"no\" else 0.5)\n",
    "print(\"Your cup of coffee costs %4.2f\"%cost)\n",
    "print(\"The price with a tip is %4.2f\"%(cost * 1.15))"
   ]
  },
  {
   "cell_type": "code",
   "execution_count": null,
   "metadata": {},
   "outputs": [],
   "source": []
  },
  {
   "cell_type": "code",
   "execution_count": null,
   "metadata": {},
   "outputs": [],
   "source": []
  },
  {
   "cell_type": "code",
   "execution_count": null,
   "metadata": {},
   "outputs": [],
   "source": []
  }
 ],
 "metadata": {
  "kernelspec": {
   "display_name": "Python 3",
   "language": "python",
   "name": "python3"
  },
  "language_info": {
   "codemirror_mode": {
    "name": "ipython",
    "version": 3
   },
   "file_extension": ".py",
   "mimetype": "text/x-python",
   "name": "python",
   "nbconvert_exporter": "python",
   "pygments_lexer": "ipython3",
   "version": "3.8.5"
  }
 },
 "nbformat": 4,
 "nbformat_minor": 4
}
