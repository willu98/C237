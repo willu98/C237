{
 "cells": [
  {
   "cell_type": "code",
   "execution_count": null,
   "metadata": {},
   "outputs": [],
   "source": [
    "import string\n",
    "\n",
    "punctuation_list =  list(string.punctuation)\n",
    "s = \"\"\"Imagine a vast sheet of paper on which straight Lines, Triangles, Squares, Pentagons, Hexagons, and other figures, instead of remaining fixed in their places, move freely about, on or in the surface, but without the power of rising above or sinking below it, very much like shadows - only hard and with luminous edges - and you will then have a pretty correct notion of my country and countrymen. Alas, a few years ago, I should have said \"my universe\": but now my mind has been opened to higher views of things.\"\"\"\n",
    "s_lower = s.lower()\n",
    "words = s_lower.split()\n",
    "\n",
    "words_clean=list()\n",
    "\n",
    "for word in words:\n",
    "    if word == \"\" or word in punctuation_list:\n",
    "        continue\n",
    "    while word[0] in punctuation_list or word[-1] in punctuation_list:\n",
    "        if word[0] in punctuation_list:\n",
    "            word = word[1:]\n",
    "        if word[-1] in punctuation_list:\n",
    "            word = word[0:-1]    \n",
    "    words_clean.append(word)\n",
    "    \n",
    "    \n",
    "print(words_clean)\n",
    "\n",
    "print(\"Number of words: %d\"%len(words))\n",
    "\n",
    "print(\"Number of distinct words: %d\"%len(set(words)))\n",
    "\n",
    "print(\"Number of words (punctuation): %d\"%len(words_clean))\n",
    "\n",
    "freq_dict = {}\n",
    "\n",
    "for word in words:\n",
    "    freq_dict[word] = freq_dict.get(word, 0) + 1\n",
    "print(\"Word frequency:\")\n",
    "print(freq_dict)"
   ]
  }
 ],
 "metadata": {
  "kernelspec": {
   "display_name": "Python 3",
   "language": "python",
   "name": "python3"
  },
  "language_info": {
   "codemirror_mode": {
    "name": "ipython",
    "version": 3
   },
   "file_extension": ".py",
   "mimetype": "text/x-python",
   "name": "python",
   "nbconvert_exporter": "python",
   "pygments_lexer": "ipython3",
   "version": "3.8.5"
  }
 },
 "nbformat": 4,
 "nbformat_minor": 4
}
